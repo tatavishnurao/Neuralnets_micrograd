{
 "cells": [
  {
   "cell_type": "code",
   "execution_count": 3,
   "metadata": {
    "collapsed": false,
    "jupyter": {
     "outputs_hidden": false
    }
   },
   "outputs": [],
   "source": [
    "# For tips on running notebooks in Google Colab, see\n",
    "# https://pytorch.org/tutorials/beginner/colab\n",
    "%matplotlib inline"
   ]
  },
  {
   "cell_type": "code",
   "execution_count": 4,
   "metadata": {},
   "outputs": [],
   "source": [
    "import torch"
   ]
  },
  {
   "cell_type": "code",
   "execution_count": 5,
   "metadata": {},
   "outputs": [
    {
     "data": {
      "text/plain": [
       "True"
      ]
     },
     "execution_count": 5,
     "metadata": {},
     "output_type": "execute_result"
    }
   ],
   "source": [
    "torch.cuda.is_available()"
   ]
  },
  {
   "cell_type": "code",
   "execution_count": 6,
   "metadata": {},
   "outputs": [
    {
     "data": {
      "text/plain": [
       "'NVIDIA GeForce RTX 4060 Laptop GPU'"
      ]
     },
     "execution_count": 6,
     "metadata": {},
     "output_type": "execute_result"
    }
   ],
   "source": [
    "torch.cuda.get_device_name(0)"
   ]
  },
  {
   "cell_type": "markdown",
   "metadata": {},
   "source": [
    "# Started Daniel's 1 day PyTorch course\n",
    "## Drifted to Andrej's NN: 0 to HERO playlist\n",
    "## Realized to seriously learn Neural Nets so chose this playlist"
   ]
  },
  {
   "cell_type": "code",
   "execution_count": 7,
   "metadata": {},
   "outputs": [],
   "source": [
    "import math\n",
    "import numpy as np\n",
    "import matplotlib.pyplot as plt"
   ]
  },
  {
   "cell_type": "code",
   "execution_count": 8,
   "metadata": {},
   "outputs": [],
   "source": [
    "%matplotlib inline"
   ]
  },
  {
   "cell_type": "code",
   "execution_count": 9,
   "metadata": {},
   "outputs": [],
   "source": [
    "def f(x):\n",
    "    return 3*x**2 - 4*x +5\n",
    "\n",
    "\n",
    "#Its just a simple quadratic expression 3x^2-4x+5"
   ]
  },
  {
   "cell_type": "code",
   "execution_count": 10,
   "metadata": {},
   "outputs": [
    {
     "data": {
      "text/plain": [
       "20.0"
      ]
     },
     "execution_count": 10,
     "metadata": {},
     "output_type": "execute_result"
    }
   ],
   "source": [
    "f(3.0)"
   ]
  },
  {
   "cell_type": "code",
   "execution_count": 11,
   "metadata": {},
   "outputs": [
    {
     "data": {
      "text/plain": [
       "[<matplotlib.lines.Line2D at 0x757b3e33f150>]"
      ]
     },
     "execution_count": 11,
     "metadata": {},
     "output_type": "execute_result"
    },
    {
     "data": {
      "image/png": "[encoded data removed]",
      "text/plain": [
       "<Figure size 640x480 with 1 Axes>"
      ]
     },
     "metadata": {},
     "output_type": "display_data"
    }
   ],
   "source": [
    "xs = np.arange(-5, 5, 0.25)\n",
    "ys = f(xs)\n",
    "plt.plot(xs,ys)"
   ]
  },
  {
   "cell_type": "code",
   "execution_count": 12,
   "metadata": {},
   "outputs": [
    {
     "data": {
      "text/plain": [
       "14.000003002223593"
      ]
     },
     "execution_count": 12,
     "metadata": {},
     "output_type": "execute_result"
    }
   ],
   "source": [
    "h = 0.000001\n",
    "x = 3.0\n",
    "(f(x + h) - f(x))/h"
   ]
  },
  {
   "cell_type": "code",
   "execution_count": 13,
   "metadata": {},
   "outputs": [
    {
     "name": "stdout",
     "output_type": "stream",
     "text": [
      "4.0\n"
     ]
    }
   ],
   "source": [
    "# Adding a bit spice to these calculations\n",
    "a = 2.0\n",
    "b = -3.0\n",
    "c = 10.0\n",
    "d = a*b + c\n",
    "#a,b,c,d are inputs\n",
    "\n",
    "print(d)"
   ]
  },
  {
   "cell_type": "code",
   "execution_count": 14,
   "metadata": {},
   "outputs": [
    {
     "name": "stdout",
     "output_type": "stream",
     "text": [
      "d1: 4.0\n",
      "d2: 4.0001\n",
      "Slope of bump from d1 to d2\n",
      "0.9999999999976694\n"
     ]
    }
   ],
   "source": [
    "h = 0.0001\n",
    "\n",
    "a = 2.0\n",
    "b = -3.0\n",
    "c = 10.0\n",
    "\n",
    "d1 = a*b + c\n",
    "c += h\n",
    "d2 = a*b + c\n",
    "\n",
    "print('d1:', d1)\n",
    "print('d2:', d2)\n",
    "print('Slope of bump from d1 to d2')\n",
    "print((d2-d1)/h)"
   ]
  },
  {
   "cell_type": "code",
   "execution_count": 15,
   "metadata": {},
   "outputs": [],
   "source": [
    "import math"
   ]
  },
  {
   "cell_type": "code",
   "execution_count": 186,
   "metadata": {},
   "outputs": [],
   "source": [
    "\n",
    " #   def __sub__(self, other):\n",
    " #       other = other if isinstance(other, Value) else Value(other)\n",
    " #      out = Value(self.data - other.data, (self, other), '-')\n",
    " #       \n",
    " #       def _backward():\n",
    " #           self.grad -= 1.0 * out.grad\n",
    " #           other.grad -= 1.0 * out.grad\n",
    " #       out._backward = _backward\n",
    "        \n",
    " #       return out\n",
    "class Value:\n",
    "    def __init__(self, data, _children=(), _op='', label=''):\n",
    "        self.data = data\n",
    "        self._prev = set(_children)\n",
    "        self._op = _op\n",
    "        self.grad = 0.0\n",
    "        self._backward = lambda: None\n",
    "        self.label = label\n",
    "\n",
    "    def __repr__(self):\n",
    "        return f\"Value(data={self.data})\"\n",
    "\n",
    "    def __add__(self, other):\n",
    "        other = other if isinstance(other, Value) else Value(other)  # Ensure other is a Value\n",
    "        out = Value(self.data + other.data, (self, other), '+')\n",
    "\n",
    "        def _backward():\n",
    "            self.grad += 1.0 * out.grad\n",
    "            other.grad += 1.0 * out.grad\n",
    "        out._backward = _backward\n",
    "\n",
    "        return out\n",
    "\n",
    "    def __radd__(self, other):  # For cases like sum(list_of_Value)\n",
    "        return self + other\n",
    "\n",
    "    def __mul__(self, other):\n",
    "        other = other if isinstance(other, Value) else Value(other) # Ensure other is a Value\n",
    "        out = Value(self.data * other.data, (self, other), '*')\n",
    "\n",
    "        def _backward():\n",
    "            self.grad += other.data * out.grad\n",
    "            other.grad += self.data * out.grad\n",
    "        out._backward = _backward\n",
    "\n",
    "        return out\n",
    "\n",
    "    def __pow__(self, other):\n",
    "        assert isinstance(other, (int, float)), \"only supporting int/float powers for now\"\n",
    "        out = Value(self.data**other, (self,), f'**{other}')\n",
    "\n",
    "        def _backward():\n",
    "            self.grad += (other * self.data**(other-1)) * out.grad\n",
    "        out._backward = _backward\n",
    "\n",
    "        return out\n",
    "\n",
    "    def __rmul__(self, other):\n",
    "        return self * other\n",
    "\n",
    "    def __neg__(self): # -self\n",
    "        return self * -1\n",
    "\n",
    "    def __sub__(self, other): # self - other\n",
    "        return self + (-other)\n",
    "\n",
    "    def __rsub__(self, other): # other - self\n",
    "        return other + (-self)\n",
    "\n",
    "    def __truediv__(self, other): # self / other\n",
    "        return self * other**-1\n",
    "\n",
    "    def __rtruediv__(self, other): # other / self\n",
    "        return other * self**-1\n",
    "\n",
    "    def tanh(self):\n",
    "        t = (math.exp(2*self.data) - 1)/(math.exp(2*self.data) + 1)\n",
    "        out = Value(t, (self, ), 'tanh')\n",
    "\n",
    "        def _backward():\n",
    "            self.grad += (1 - t**2) * out.grad\n",
    "        out._backward = _backward\n",
    "\n",
    "        return out\n",
    "\n",
    "    def exp(self):\n",
    "        x = self.data\n",
    "        out = Value(math.exp(x), (self, ), 'exp')\n",
    "\n",
    "        def _backward():\n",
    "            self.grad += out.data * out.grad\n",
    "        out._backward = _backward   \n",
    "\n",
    "        \n",
    "        return out  \n",
    "        \n",
    "    def backward(self):\n",
    "\n",
    "        topo = []\n",
    "        visited = set()\n",
    "        def build_topo(v):\n",
    "            if v not in visited:\n",
    "                visited.add(v)\n",
    "                for child in v._prev:\n",
    "                    build_topo(child)\n",
    "                topo.append(v)\n",
    "        build_topo(self)\n",
    "\n",
    "        self.grad = 1.0\n",
    "        for v in reversed(topo):\n",
    "            v._backward()"
   ]
  },
  {
   "cell_type": "code",
   "execution_count": 76,
   "metadata": {},
   "outputs": [
    {
     "data": {
      "text/plain": [
       "Value(data=1.0, grad=0)"
      ]
     },
     "execution_count": 76,
     "metadata": {},
     "output_type": "execute_result"
    }
   ],
   "source": [
    "a = Value(2.0)\n",
    "b = Value(1.0)\n",
    "a - b\n"
   ]
  },
  {
   "cell_type": "code",
   "execution_count": 18,
   "metadata": {},
   "outputs": [
    {
     "name": "stdout",
     "output_type": "stream",
     "text": [
      "\u001b[2mUsing Python 3.11.11 environment at: nvigpu\u001b[0m\n",
      "\u001b[2mAudited \u001b[1m1 package\u001b[0m \u001b[2min 10ms\u001b[0m\u001b[0m\n"
     ]
    }
   ],
   "source": [
    "!uv pip install graphviz"
   ]
  },
  {
   "cell_type": "code",
   "execution_count": 187,
   "metadata": {},
   "outputs": [],
   "source": [
    "from graphviz import Digraph\n",
    "\n",
    "def trace(root):\n",
    "    nodes, edges = set(), set()\n",
    "    def build(v):\n",
    "        if v not in nodes:\n",
    "            nodes.add(v)\n",
    "            for child in v._prev:\n",
    "                edges.add((child, v))\n",
    "                build(child)\n",
    "    build(root)\n",
    "    return nodes, edges\n",
    "\n",
    "def draw_dot(root, format='svg', rankdir='LR'):\n",
    "    dot  = Digraph(format='svg', graph_attr={'rankdir': 'LR'})\n",
    "\n",
    "    nodes, edges = trace(root)\n",
    "    for n in nodes:\n",
    "        uid = str(id(n))\n",
    "        #creating a rectangular record node for label and the data it holds\n",
    "        dot.node(name = uid, label = '{ %s | data %.4f | grad %.4f}' % (n.label, n.data, n.grad), shape='record')\n",
    "        if n._op:\n",
    "            #creating a operation node where it just a showcase of the current operation being performed for the Values\n",
    "            dot.node(name=uid + n._op, label = n._op)\n",
    "            dot.edge(uid + n._op, uid)\n",
    "\n",
    "    for n1, n2 in edges:\n",
    "        dot.edge(str(id(n1)), str(id(n2)) + n2._op)\n",
    "\n",
    "    return dot    "
   ]
  },
  {
   "cell_type": "code",
   "execution_count": 188,
   "metadata": {},
   "outputs": [
    {
     "name": "stdout",
     "output_type": "stream",
     "text": [
      "-3.9999999999995595\n"
     ]
    }
   ],
   "source": [
    "def lol():\n",
    "\n",
    "    h = 0.001\n",
    "\n",
    "    \n",
    "    a = Value(2.0, label='a')\n",
    "    b = Value(-3.0, label='b')\n",
    "    c = Value(10.0, label='c')\n",
    "    e = a*b; e.label = 'e'\n",
    "    d = e + c; d.label = 'd'\n",
    "    f = Value(-2.0, label='f')\n",
    "    L = d * f; L.label = 'L'\n",
    "    L1 = L.data\n",
    "\n",
    "    a = Value(2.0, label='a')\n",
    "    b = Value(-3.0, label='b')\n",
    "    b.data += h\n",
    "    c = Value(10.0, label='c')\n",
    "    e = a*b; e.label = 'e'\n",
    "    d = e + c; d.label = 'd'\n",
    "    f = Value(-2.0, label='f')\n",
    "    L = d * f; L.label = 'L'\n",
    "    L2 = L.data \n",
    "\n",
    "    print((L2 - L1)/h)\n",
    "\n",
    "lol()    "
   ]
  },
  {
   "cell_type": "code",
   "execution_count": 189,
   "metadata": {},
   "outputs": [
    {
     "name": "stdout",
     "output_type": "stream",
     "text": [
      "\u001b[2mUsing Python 3.11.11 environment at: nvigpu\u001b[0m\n",
      "\u001b[2mAudited \u001b[1m1 package\u001b[0m \u001b[2min 11ms\u001b[0m\u001b[0m\n"
     ]
    }
   ],
   "source": [
    "!uv pip install matplotlib\n",
    "import matplotlib.pyplot as plt\n",
    "import numpy as np"
   ]
  },
  {
   "cell_type": "code",
   "execution_count": 190,
   "metadata": {},
   "outputs": [
    {
     "data": {
      "image/png": "[encoded data removed]",
      "text/plain": [
       "<Figure size 640x480 with 1 Axes>"
      ]
     },
     "metadata": {},
     "output_type": "display_data"
    }
   ],
   "source": [
    "plt.plot(np.arange(-5,5,0.2), np.tanh(np.arange(-5,5,0.2))); plt.grid();"
   ]
  },
  {
   "cell_type": "markdown",
   "metadata": {},
   "source": [
    "## CODING THE NEURON"
   ]
  },
  {
   "cell_type": "code",
   "execution_count": null,
   "metadata": {},
   "outputs": [],
   "source": [
    "#INPUTS\n",
    "x1 = Value(2.0, label='x1')\n",
    "x2 = Value(0.0, label='x2')\n",
    "#WEIGHTS\n",
    "w1 = Value(-3.0, label='w1')\n",
    "w2 = Value(1.0, label='w2')\n",
    "#BIAS\n",
    "b = Value(6.8813735870195432, label='b')\n",
    "x1w1 = x1*w1; x1w1.label = 'x1*w1'\n",
    "x2w2 = x2*w2; x2w2.label = 'x2*w2'\n",
    "x1w1x2w2 = x1w1 + x2w2; x1w1x2w2.label = 'x1*w1 + x2*w2'\n",
    "n = x1w1x2w2 + b; n.label = 'n'\n",
    "o = n.tanh(); o.label = 'o'\n",
    "o.backward()"
   ]
  },
  {
   "cell_type": "code",
   "execution_count": 70,
   "metadata": {},
   "outputs": [
    {
     "data": {
      "image/svg+xml": [
       "<?xml version=\"1.0\" encoding=\"UTF-8\" standalone=\"no\"?>\n",
       "<!DOCTYPE svg PUBLIC \"-//W3C//DTD SVG 1.1//EN\"\n",
       " \"http://www.w3.org/Graphics/SVG/1.1/DTD/svg11.dtd\">\n",
       "<!-- Generated by graphviz version 2.43.0 (0)\n",
       " -->\n",
       "<!-- Title: %3 Pages: 1 -->\n",
       "<svg width=\"1846pt\" height=\"210pt\"\n",
       " viewBox=\"0.00 0.00 1845.69 210.00\" xmlns=\"http://www.w3.org/2000/svg\" xmlns:xlink=\"http://www.w3.org/1999/xlink\">\n",
       "<g id=\"graph0\" class=\"graph\" transform=\"scale(1 1) rotate(0) translate(4 206)\">\n",
       "<title>%3</title>\n",
       "<polygon fill=\"white\" stroke=\"transparent\" points=\"-4,4 -4,-206 1841.69,-206 1841.69,4 -4,4\"/>\n",
       "<!-- 129176398140944 -->\n",
       "<g id=\"node1\" class=\"node\">\n",
       "<title>129176398140944</title>\n",
       "<polygon fill=\"none\" stroke=\"black\" points=\"375,-55.5 375,-91.5 648,-91.5 648,-55.5 375,-55.5\"/>\n",
       "<text text-anchor=\"middle\" x=\"406\" y=\"-69.8\" font-family=\"Times,serif\" font-size=\"14.00\">x1*w1</text>\n",
       "<polyline fill=\"none\" stroke=\"black\" points=\"437,-55.5 437,-91.5 \"/>\n",
       "<text text-anchor=\"middle\" x=\"490.5\" y=\"-69.8\" font-family=\"Times,serif\" font-size=\"14.00\">data &#45;6.0000</text>\n",
       "<polyline fill=\"none\" stroke=\"black\" points=\"544,-55.5 544,-91.5 \"/>\n",
       "<text text-anchor=\"middle\" x=\"596\" y=\"-69.8\" font-family=\"Times,serif\" font-size=\"14.00\">grad 0.5000</text>\n",
       "</g>\n",
       "<!-- 129176398136080+ -->\n",
       "<g id=\"node11\" class=\"node\">\n",
       "<title>129176398136080+</title>\n",
       "<ellipse fill=\"none\" stroke=\"black\" cx=\"711\" cy=\"-100.5\" rx=\"27\" ry=\"18\"/>\n",
       "<text text-anchor=\"middle\" x=\"711\" y=\"-96.8\" font-family=\"Times,serif\" font-size=\"14.00\">+</text>\n",
       "</g>\n",
       "<!-- 129176398140944&#45;&gt;129176398136080+ -->\n",
       "<g id=\"edge10\" class=\"edge\">\n",
       "<title>129176398140944&#45;&gt;129176398136080+</title>\n",
       "<path fill=\"none\" stroke=\"black\" d=\"M644.24,-91.51C655.12,-93 665.4,-94.4 674.45,-95.64\"/>\n",
       "<polygon fill=\"black\" stroke=\"black\" points=\"674.11,-99.13 684.49,-97.01 675.05,-92.19 674.11,-99.13\"/>\n",
       "</g>\n",
       "<!-- 129176398140944* -->\n",
       "<g id=\"node2\" class=\"node\">\n",
       "<title>129176398140944*</title>\n",
       "<ellipse fill=\"none\" stroke=\"black\" cx=\"312\" cy=\"-73.5\" rx=\"27\" ry=\"18\"/>\n",
       "<text text-anchor=\"middle\" x=\"312\" y=\"-69.8\" font-family=\"Times,serif\" font-size=\"14.00\">*</text>\n",
       "</g>\n",
       "<!-- 129176398140944*&#45;&gt;129176398140944 -->\n",
       "<g id=\"edge1\" class=\"edge\">\n",
       "<title>129176398140944*&#45;&gt;129176398140944</title>\n",
       "<path fill=\"none\" stroke=\"black\" d=\"M339.23,-73.5C346.7,-73.5 355.41,-73.5 364.87,-73.5\"/>\n",
       "<polygon fill=\"black\" stroke=\"black\" points=\"364.98,-77 374.98,-73.5 364.98,-70 364.98,-77\"/>\n",
       "</g>\n",
       "<!-- 129172177011792 -->\n",
       "<g id=\"node3\" class=\"node\">\n",
       "<title>129172177011792</title>\n",
       "<polygon fill=\"none\" stroke=\"black\" points=\"0,-55.5 0,-91.5 249,-91.5 249,-55.5 0,-55.5\"/>\n",
       "<text text-anchor=\"middle\" x=\"19\" y=\"-69.8\" font-family=\"Times,serif\" font-size=\"14.00\">w1</text>\n",
       "<polyline fill=\"none\" stroke=\"black\" points=\"38,-55.5 38,-91.5 \"/>\n",
       "<text text-anchor=\"middle\" x=\"91.5\" y=\"-69.8\" font-family=\"Times,serif\" font-size=\"14.00\">data &#45;3.0000</text>\n",
       "<polyline fill=\"none\" stroke=\"black\" points=\"145,-55.5 145,-91.5 \"/>\n",
       "<text text-anchor=\"middle\" x=\"197\" y=\"-69.8\" font-family=\"Times,serif\" font-size=\"14.00\">grad 1.0000</text>\n",
       "</g>\n",
       "<!-- 129172177011792&#45;&gt;129176398140944* -->\n",
       "<g id=\"edge11\" class=\"edge\">\n",
       "<title>129172177011792&#45;&gt;129176398140944*</title>\n",
       "<path fill=\"none\" stroke=\"black\" d=\"M249.23,-73.5C258.37,-73.5 267.05,-73.5 274.87,-73.5\"/>\n",
       "<polygon fill=\"black\" stroke=\"black\" points=\"274.95,-77 284.95,-73.5 274.95,-70 274.95,-77\"/>\n",
       "</g>\n",
       "<!-- 129176398139472 -->\n",
       "<g id=\"node4\" class=\"node\">\n",
       "<title>129176398139472</title>\n",
       "<polygon fill=\"none\" stroke=\"black\" points=\"827.5,-137.5 827.5,-173.5 1059.5,-173.5 1059.5,-137.5 827.5,-137.5\"/>\n",
       "<text text-anchor=\"middle\" x=\"840.5\" y=\"-151.8\" font-family=\"Times,serif\" font-size=\"14.00\">b</text>\n",
       "<polyline fill=\"none\" stroke=\"black\" points=\"853.5,-137.5 853.5,-173.5 \"/>\n",
       "<text text-anchor=\"middle\" x=\"904.5\" y=\"-151.8\" font-family=\"Times,serif\" font-size=\"14.00\">data 6.8814</text>\n",
       "<polyline fill=\"none\" stroke=\"black\" points=\"955.5,-137.5 955.5,-173.5 \"/>\n",
       "<text text-anchor=\"middle\" x=\"1007.5\" y=\"-151.8\" font-family=\"Times,serif\" font-size=\"14.00\">grad 0.5000</text>\n",
       "</g>\n",
       "<!-- 129176398150608+ -->\n",
       "<g id=\"node9\" class=\"node\">\n",
       "<title>129176398150608+</title>\n",
       "<ellipse fill=\"none\" stroke=\"black\" cx=\"1176\" cy=\"-127.5\" rx=\"27\" ry=\"18\"/>\n",
       "<text text-anchor=\"middle\" x=\"1176\" y=\"-123.8\" font-family=\"Times,serif\" font-size=\"14.00\">+</text>\n",
       "</g>\n",
       "<!-- 129176398139472&#45;&gt;129176398150608+ -->\n",
       "<g id=\"edge7\" class=\"edge\">\n",
       "<title>129176398139472&#45;&gt;129176398150608+</title>\n",
       "<path fill=\"none\" stroke=\"black\" d=\"M1059.75,-141.5C1088.57,-138 1117.4,-134.5 1139.01,-131.87\"/>\n",
       "<polygon fill=\"black\" stroke=\"black\" points=\"1139.5,-135.34 1149.01,-130.66 1138.66,-128.39 1139.5,-135.34\"/>\n",
       "</g>\n",
       "<!-- 129172177018512 -->\n",
       "<g id=\"node5\" class=\"node\">\n",
       "<title>129172177018512</title>\n",
       "<polygon fill=\"none\" stroke=\"black\" points=\"2.5,-0.5 2.5,-36.5 246.5,-36.5 246.5,-0.5 2.5,-0.5\"/>\n",
       "<text text-anchor=\"middle\" x=\"19.5\" y=\"-14.8\" font-family=\"Times,serif\" font-size=\"14.00\">x1</text>\n",
       "<polyline fill=\"none\" stroke=\"black\" points=\"36.5,-0.5 36.5,-36.5 \"/>\n",
       "<text text-anchor=\"middle\" x=\"87.5\" y=\"-14.8\" font-family=\"Times,serif\" font-size=\"14.00\">data 2.0000</text>\n",
       "<polyline fill=\"none\" stroke=\"black\" points=\"138.5,-0.5 138.5,-36.5 \"/>\n",
       "<text text-anchor=\"middle\" x=\"192.5\" y=\"-14.8\" font-family=\"Times,serif\" font-size=\"14.00\">grad &#45;1.5000</text>\n",
       "</g>\n",
       "<!-- 129172177018512&#45;&gt;129176398140944* -->\n",
       "<g id=\"edge8\" class=\"edge\">\n",
       "<title>129172177018512&#45;&gt;129176398140944*</title>\n",
       "<path fill=\"none\" stroke=\"black\" d=\"M214.42,-36.55C226.15,-39.54 237.93,-42.87 249,-46.5 259.46,-49.93 270.57,-54.47 280.46,-58.84\"/>\n",
       "<polygon fill=\"black\" stroke=\"black\" points=\"279.31,-62.17 289.87,-63.12 282.21,-55.79 279.31,-62.17\"/>\n",
       "</g>\n",
       "<!-- 129176398138000 -->\n",
       "<g id=\"node6\" class=\"node\">\n",
       "<title>129176398138000</title>\n",
       "<polygon fill=\"none\" stroke=\"black\" points=\"377.5,-110.5 377.5,-146.5 645.5,-146.5 645.5,-110.5 377.5,-110.5\"/>\n",
       "<text text-anchor=\"middle\" x=\"408.5\" y=\"-124.8\" font-family=\"Times,serif\" font-size=\"14.00\">x2*w2</text>\n",
       "<polyline fill=\"none\" stroke=\"black\" points=\"439.5,-110.5 439.5,-146.5 \"/>\n",
       "<text text-anchor=\"middle\" x=\"490.5\" y=\"-124.8\" font-family=\"Times,serif\" font-size=\"14.00\">data 0.0000</text>\n",
       "<polyline fill=\"none\" stroke=\"black\" points=\"541.5,-110.5 541.5,-146.5 \"/>\n",
       "<text text-anchor=\"middle\" x=\"593.5\" y=\"-124.8\" font-family=\"Times,serif\" font-size=\"14.00\">grad 0.5000</text>\n",
       "</g>\n",
       "<!-- 129176398138000&#45;&gt;129176398136080+ -->\n",
       "<g id=\"edge9\" class=\"edge\">\n",
       "<title>129176398138000&#45;&gt;129176398136080+</title>\n",
       "<path fill=\"none\" stroke=\"black\" d=\"M639.53,-110.49C652.09,-108.71 663.99,-107.02 674.3,-105.56\"/>\n",
       "<polygon fill=\"black\" stroke=\"black\" points=\"675.03,-108.99 684.44,-104.12 674.05,-102.06 675.03,-108.99\"/>\n",
       "</g>\n",
       "<!-- 129176398138000* -->\n",
       "<g id=\"node7\" class=\"node\">\n",
       "<title>129176398138000*</title>\n",
       "<ellipse fill=\"none\" stroke=\"black\" cx=\"312\" cy=\"-128.5\" rx=\"27\" ry=\"18\"/>\n",
       "<text text-anchor=\"middle\" x=\"312\" y=\"-124.8\" font-family=\"Times,serif\" font-size=\"14.00\">*</text>\n",
       "</g>\n",
       "<!-- 129176398138000*&#45;&gt;129176398138000 -->\n",
       "<g id=\"edge2\" class=\"edge\">\n",
       "<title>129176398138000*&#45;&gt;129176398138000</title>\n",
       "<path fill=\"none\" stroke=\"black\" d=\"M339.23,-128.5C347.26,-128.5 356.72,-128.5 366.99,-128.5\"/>\n",
       "<polygon fill=\"black\" stroke=\"black\" points=\"367.08,-132 377.08,-128.5 367.08,-125 367.08,-132\"/>\n",
       "</g>\n",
       "<!-- 129176398150608 -->\n",
       "<g id=\"node8\" class=\"node\">\n",
       "<title>129176398150608</title>\n",
       "<polygon fill=\"none\" stroke=\"black\" points=\"1239,-109.5 1239,-145.5 1471,-145.5 1471,-109.5 1239,-109.5\"/>\n",
       "<text text-anchor=\"middle\" x=\"1252\" y=\"-123.8\" font-family=\"Times,serif\" font-size=\"14.00\">n</text>\n",
       "<polyline fill=\"none\" stroke=\"black\" points=\"1265,-109.5 1265,-145.5 \"/>\n",
       "<text text-anchor=\"middle\" x=\"1316\" y=\"-123.8\" font-family=\"Times,serif\" font-size=\"14.00\">data 0.8814</text>\n",
       "<polyline fill=\"none\" stroke=\"black\" points=\"1367,-109.5 1367,-145.5 \"/>\n",
       "<text text-anchor=\"middle\" x=\"1419\" y=\"-123.8\" font-family=\"Times,serif\" font-size=\"14.00\">grad 0.5000</text>\n",
       "</g>\n",
       "<!-- 129176398147024tanh -->\n",
       "<g id=\"node15\" class=\"node\">\n",
       "<title>129176398147024tanh</title>\n",
       "<ellipse fill=\"none\" stroke=\"black\" cx=\"1538.85\" cy=\"-127.5\" rx=\"31.7\" ry=\"18\"/>\n",
       "<text text-anchor=\"middle\" x=\"1538.85\" y=\"-123.8\" font-family=\"Times,serif\" font-size=\"14.00\">tanh</text>\n",
       "</g>\n",
       "<!-- 129176398150608&#45;&gt;129176398147024tanh -->\n",
       "<g id=\"edge13\" class=\"edge\">\n",
       "<title>129176398150608&#45;&gt;129176398147024tanh</title>\n",
       "<path fill=\"none\" stroke=\"black\" d=\"M1471.17,-127.5C1480.08,-127.5 1488.66,-127.5 1496.53,-127.5\"/>\n",
       "<polygon fill=\"black\" stroke=\"black\" points=\"1496.78,-131 1506.78,-127.5 1496.78,-124 1496.78,-131\"/>\n",
       "</g>\n",
       "<!-- 129176398150608+&#45;&gt;129176398150608 -->\n",
       "<g id=\"edge3\" class=\"edge\">\n",
       "<title>129176398150608+&#45;&gt;129176398150608</title>\n",
       "<path fill=\"none\" stroke=\"black\" d=\"M1203.12,-127.5C1210.53,-127.5 1219.14,-127.5 1228.4,-127.5\"/>\n",
       "<polygon fill=\"black\" stroke=\"black\" points=\"1228.69,-131 1238.69,-127.5 1228.69,-124 1228.69,-131\"/>\n",
       "</g>\n",
       "<!-- 129176398136080 -->\n",
       "<g id=\"node10\" class=\"node\">\n",
       "<title>129176398136080</title>\n",
       "<polygon fill=\"none\" stroke=\"black\" points=\"774,-82.5 774,-118.5 1113,-118.5 1113,-82.5 774,-82.5\"/>\n",
       "<text text-anchor=\"middle\" x=\"838\" y=\"-96.8\" font-family=\"Times,serif\" font-size=\"14.00\">x1*w1 + x2*w2</text>\n",
       "<polyline fill=\"none\" stroke=\"black\" points=\"902,-82.5 902,-118.5 \"/>\n",
       "<text text-anchor=\"middle\" x=\"955.5\" y=\"-96.8\" font-family=\"Times,serif\" font-size=\"14.00\">data &#45;6.0000</text>\n",
       "<polyline fill=\"none\" stroke=\"black\" points=\"1009,-82.5 1009,-118.5 \"/>\n",
       "<text text-anchor=\"middle\" x=\"1061\" y=\"-96.8\" font-family=\"Times,serif\" font-size=\"14.00\">grad 0.5000</text>\n",
       "</g>\n",
       "<!-- 129176398136080&#45;&gt;129176398150608+ -->\n",
       "<g id=\"edge14\" class=\"edge\">\n",
       "<title>129176398136080&#45;&gt;129176398150608+</title>\n",
       "<path fill=\"none\" stroke=\"black\" d=\"M1098.25,-118.51C1113.17,-120.26 1127.12,-121.89 1138.92,-123.27\"/>\n",
       "<polygon fill=\"black\" stroke=\"black\" points=\"1138.79,-126.78 1149.13,-124.47 1139.6,-119.83 1138.79,-126.78\"/>\n",
       "</g>\n",
       "<!-- 129176398136080+&#45;&gt;129176398136080 -->\n",
       "<g id=\"edge4\" class=\"edge\">\n",
       "<title>129176398136080+&#45;&gt;129176398136080</title>\n",
       "<path fill=\"none\" stroke=\"black\" d=\"M738.44,-100.5C745.81,-100.5 754.42,-100.5 763.84,-100.5\"/>\n",
       "<polygon fill=\"black\" stroke=\"black\" points=\"763.94,-104 773.94,-100.5 763.94,-97 763.94,-104\"/>\n",
       "</g>\n",
       "<!-- 129172177027024 -->\n",
       "<g id=\"node12\" class=\"node\">\n",
       "<title>129172177027024</title>\n",
       "<polygon fill=\"none\" stroke=\"black\" points=\"2.5,-165.5 2.5,-201.5 246.5,-201.5 246.5,-165.5 2.5,-165.5\"/>\n",
       "<text text-anchor=\"middle\" x=\"21.5\" y=\"-179.8\" font-family=\"Times,serif\" font-size=\"14.00\">w2</text>\n",
       "<polyline fill=\"none\" stroke=\"black\" points=\"40.5,-165.5 40.5,-201.5 \"/>\n",
       "<text text-anchor=\"middle\" x=\"91.5\" y=\"-179.8\" font-family=\"Times,serif\" font-size=\"14.00\">data 1.0000</text>\n",
       "<polyline fill=\"none\" stroke=\"black\" points=\"142.5,-165.5 142.5,-201.5 \"/>\n",
       "<text text-anchor=\"middle\" x=\"194.5\" y=\"-179.8\" font-family=\"Times,serif\" font-size=\"14.00\">grad 0.0000</text>\n",
       "</g>\n",
       "<!-- 129172177027024&#45;&gt;129176398138000* -->\n",
       "<g id=\"edge12\" class=\"edge\">\n",
       "<title>129172177027024&#45;&gt;129176398138000*</title>\n",
       "<path fill=\"none\" stroke=\"black\" d=\"M218.13,-165.46C228.63,-162.77 239.1,-159.78 249,-156.5 259.71,-152.96 271.05,-148.16 281.07,-143.54\"/>\n",
       "<polygon fill=\"black\" stroke=\"black\" points=\"282.67,-146.66 290.2,-139.21 279.67,-140.33 282.67,-146.66\"/>\n",
       "</g>\n",
       "<!-- 129172177020752 -->\n",
       "<g id=\"node13\" class=\"node\">\n",
       "<title>129172177020752</title>\n",
       "<polygon fill=\"none\" stroke=\"black\" points=\"4.5,-110.5 4.5,-146.5 244.5,-146.5 244.5,-110.5 4.5,-110.5\"/>\n",
       "<text text-anchor=\"middle\" x=\"21.5\" y=\"-124.8\" font-family=\"Times,serif\" font-size=\"14.00\">x2</text>\n",
       "<polyline fill=\"none\" stroke=\"black\" points=\"38.5,-110.5 38.5,-146.5 \"/>\n",
       "<text text-anchor=\"middle\" x=\"89.5\" y=\"-124.8\" font-family=\"Times,serif\" font-size=\"14.00\">data 0.0000</text>\n",
       "<polyline fill=\"none\" stroke=\"black\" points=\"140.5,-110.5 140.5,-146.5 \"/>\n",
       "<text text-anchor=\"middle\" x=\"192.5\" y=\"-124.8\" font-family=\"Times,serif\" font-size=\"14.00\">grad 0.5000</text>\n",
       "</g>\n",
       "<!-- 129172177020752&#45;&gt;129176398138000* -->\n",
       "<g id=\"edge6\" class=\"edge\">\n",
       "<title>129172177020752&#45;&gt;129176398138000*</title>\n",
       "<path fill=\"none\" stroke=\"black\" d=\"M244.55,-128.5C255.31,-128.5 265.54,-128.5 274.62,-128.5\"/>\n",
       "<polygon fill=\"black\" stroke=\"black\" points=\"274.7,-132 284.7,-128.5 274.7,-125 274.7,-132\"/>\n",
       "</g>\n",
       "<!-- 129176398147024 -->\n",
       "<g id=\"node14\" class=\"node\">\n",
       "<title>129176398147024</title>\n",
       "<polygon fill=\"none\" stroke=\"black\" points=\"1606.69,-109.5 1606.69,-145.5 1837.69,-145.5 1837.69,-109.5 1606.69,-109.5\"/>\n",
       "<text text-anchor=\"middle\" x=\"1619.19\" y=\"-123.8\" font-family=\"Times,serif\" font-size=\"14.00\">o</text>\n",
       "<polyline fill=\"none\" stroke=\"black\" points=\"1631.69,-109.5 1631.69,-145.5 \"/>\n",
       "<text text-anchor=\"middle\" x=\"1682.69\" y=\"-123.8\" font-family=\"Times,serif\" font-size=\"14.00\">data 0.7071</text>\n",
       "<polyline fill=\"none\" stroke=\"black\" points=\"1733.69,-109.5 1733.69,-145.5 \"/>\n",
       "<text text-anchor=\"middle\" x=\"1785.69\" y=\"-123.8\" font-family=\"Times,serif\" font-size=\"14.00\">grad 1.0000</text>\n",
       "</g>\n",
       "<!-- 129176398147024tanh&#45;&gt;129176398147024 -->\n",
       "<g id=\"edge5\" class=\"edge\">\n",
       "<title>129176398147024tanh&#45;&gt;129176398147024</title>\n",
       "<path fill=\"none\" stroke=\"black\" d=\"M1571.02,-127.5C1578.61,-127.5 1587.19,-127.5 1596.31,-127.5\"/>\n",
       "<polygon fill=\"black\" stroke=\"black\" points=\"1596.4,-131 1606.4,-127.5 1596.4,-124 1596.4,-131\"/>\n",
       "</g>\n",
       "</g>\n",
       "</svg>\n"
      ],
      "text/plain": [
       "<graphviz.graphs.Digraph at 0x757c39533610>"
      ]
     },
     "execution_count": 70,
     "metadata": {},
     "output_type": "execute_result"
    }
   ],
   "source": [
    "draw_dot(o)"
   ]
  },
  {
   "cell_type": "code",
   "execution_count": 191,
   "metadata": {},
   "outputs": [
    {
     "data": {
      "image/svg+xml": [
       "<?xml version=\"1.0\" encoding=\"UTF-8\" standalone=\"no\"?>\n",
       "<!DOCTYPE svg PUBLIC \"-//W3C//DTD SVG 1.1//EN\"\n",
       " \"http://www.w3.org/Graphics/SVG/1.1/DTD/svg11.dtd\">\n",
       "<!-- Generated by graphviz version 2.43.0 (0)\n",
       " -->\n",
       "<!-- Title: %3 Pages: 1 -->\n",
       "<svg width=\"3410pt\" height=\"210pt\"\n",
       " viewBox=\"0.00 0.00 3409.60 210.00\" xmlns=\"http://www.w3.org/2000/svg\" xmlns:xlink=\"http://www.w3.org/1999/xlink\">\n",
       "<g id=\"graph0\" class=\"graph\" transform=\"scale(1 1) rotate(0) translate(4 206)\">\n",
       "<title>%3</title>\n",
       "<polygon fill=\"white\" stroke=\"transparent\" points=\"-4,4 -4,-206 3405.6,-206 3405.6,4 -4,4\"/>\n",
       "<!-- 129176390886352 -->\n",
       "<g id=\"node1\" class=\"node\">\n",
       "<title>129176390886352</title>\n",
       "<polygon fill=\"none\" stroke=\"black\" points=\"1218,-54.5 1218,-90.5 1450,-90.5 1450,-54.5 1218,-54.5\"/>\n",
       "<text text-anchor=\"middle\" x=\"1231\" y=\"-68.8\" font-family=\"Times,serif\" font-size=\"14.00\">n</text>\n",
       "<polyline fill=\"none\" stroke=\"black\" points=\"1244,-54.5 1244,-90.5 \"/>\n",
       "<text text-anchor=\"middle\" x=\"1295\" y=\"-68.8\" font-family=\"Times,serif\" font-size=\"14.00\">data 0.8814</text>\n",
       "<polyline fill=\"none\" stroke=\"black\" points=\"1346,-54.5 1346,-90.5 \"/>\n",
       "<text text-anchor=\"middle\" x=\"1398\" y=\"-68.8\" font-family=\"Times,serif\" font-size=\"14.00\">grad 0.5000</text>\n",
       "</g>\n",
       "<!-- 129176390883280* -->\n",
       "<g id=\"node28\" class=\"node\">\n",
       "<title>129176390883280*</title>\n",
       "<ellipse fill=\"none\" stroke=\"black\" cx=\"1513\" cy=\"-99.5\" rx=\"27\" ry=\"18\"/>\n",
       "<text text-anchor=\"middle\" x=\"1513\" y=\"-95.8\" font-family=\"Times,serif\" font-size=\"14.00\">*</text>\n",
       "</g>\n",
       "<!-- 129176390886352&#45;&gt;129176390883280* -->\n",
       "<g id=\"edge18\" class=\"edge\">\n",
       "<title>129176390886352&#45;&gt;129176390883280*</title>\n",
       "<path fill=\"none\" stroke=\"black\" d=\"M1450.09,-90.06C1459.46,-91.49 1468.39,-92.85 1476.4,-94.07\"/>\n",
       "<polygon fill=\"black\" stroke=\"black\" points=\"1475.96,-97.54 1486.37,-95.59 1477.01,-90.62 1475.96,-97.54\"/>\n",
       "</g>\n",
       "<!-- 129176390886352+ -->\n",
       "<g id=\"node2\" class=\"node\">\n",
       "<title>129176390886352+</title>\n",
       "<ellipse fill=\"none\" stroke=\"black\" cx=\"1155\" cy=\"-72.5\" rx=\"27\" ry=\"18\"/>\n",
       "<text text-anchor=\"middle\" x=\"1155\" y=\"-68.8\" font-family=\"Times,serif\" font-size=\"14.00\">+</text>\n",
       "</g>\n",
       "<!-- 129176390886352+&#45;&gt;129176390886352 -->\n",
       "<g id=\"edge1\" class=\"edge\">\n",
       "<title>129176390886352+&#45;&gt;129176390886352</title>\n",
       "<path fill=\"none\" stroke=\"black\" d=\"M1182.12,-72.5C1189.53,-72.5 1198.14,-72.5 1207.4,-72.5\"/>\n",
       "<polygon fill=\"black\" stroke=\"black\" points=\"1207.69,-76 1217.69,-72.5 1207.69,-69 1207.69,-76\"/>\n",
       "</g>\n",
       "<!-- 129176390882896 -->\n",
       "<g id=\"node3\" class=\"node\">\n",
       "<title>129176390882896</title>\n",
       "<polygon fill=\"none\" stroke=\"black\" points=\"767,-82.5 767,-118.5 1092,-118.5 1092,-82.5 767,-82.5\"/>\n",
       "<text text-anchor=\"middle\" x=\"824\" y=\"-96.8\" font-family=\"Times,serif\" font-size=\"14.00\">x1w1 + x2w2</text>\n",
       "<polyline fill=\"none\" stroke=\"black\" points=\"881,-82.5 881,-118.5 \"/>\n",
       "<text text-anchor=\"middle\" x=\"934.5\" y=\"-96.8\" font-family=\"Times,serif\" font-size=\"14.00\">data &#45;6.0000</text>\n",
       "<polyline fill=\"none\" stroke=\"black\" points=\"988,-82.5 988,-118.5 \"/>\n",
       "<text text-anchor=\"middle\" x=\"1040\" y=\"-96.8\" font-family=\"Times,serif\" font-size=\"14.00\">grad 0.5000</text>\n",
       "</g>\n",
       "<!-- 129176390882896&#45;&gt;129176390886352+ -->\n",
       "<g id=\"edge17\" class=\"edge\">\n",
       "<title>129176390882896&#45;&gt;129176390886352+</title>\n",
       "<path fill=\"none\" stroke=\"black\" d=\"M1074.26,-82.49C1090.41,-80.47 1105.59,-78.56 1118.28,-76.97\"/>\n",
       "<polygon fill=\"black\" stroke=\"black\" points=\"1118.84,-80.43 1128.32,-75.72 1117.96,-73.49 1118.84,-80.43\"/>\n",
       "</g>\n",
       "<!-- 129176390882896+ -->\n",
       "<g id=\"node4\" class=\"node\">\n",
       "<title>129176390882896+</title>\n",
       "<ellipse fill=\"none\" stroke=\"black\" cx=\"704\" cy=\"-100.5\" rx=\"27\" ry=\"18\"/>\n",
       "<text text-anchor=\"middle\" x=\"704\" y=\"-96.8\" font-family=\"Times,serif\" font-size=\"14.00\">+</text>\n",
       "</g>\n",
       "<!-- 129176390882896+&#45;&gt;129176390882896 -->\n",
       "<g id=\"edge2\" class=\"edge\">\n",
       "<title>129176390882896+&#45;&gt;129176390882896</title>\n",
       "<path fill=\"none\" stroke=\"black\" d=\"M731.08,-100.5C738.51,-100.5 747.21,-100.5 756.74,-100.5\"/>\n",
       "<polygon fill=\"black\" stroke=\"black\" points=\"756.95,-104 766.95,-100.5 756.95,-97 756.95,-104\"/>\n",
       "</g>\n",
       "<!-- 129176393748048 -->\n",
       "<g id=\"node5\" class=\"node\">\n",
       "<title>129176393748048</title>\n",
       "<polygon fill=\"none\" stroke=\"black\" points=\"0,-55.5 0,-91.5 249,-91.5 249,-55.5 0,-55.5\"/>\n",
       "<text text-anchor=\"middle\" x=\"19\" y=\"-69.8\" font-family=\"Times,serif\" font-size=\"14.00\">w1</text>\n",
       "<polyline fill=\"none\" stroke=\"black\" points=\"38,-55.5 38,-91.5 \"/>\n",
       "<text text-anchor=\"middle\" x=\"91.5\" y=\"-69.8\" font-family=\"Times,serif\" font-size=\"14.00\">data &#45;3.0000</text>\n",
       "<polyline fill=\"none\" stroke=\"black\" points=\"145,-55.5 145,-91.5 \"/>\n",
       "<text text-anchor=\"middle\" x=\"197\" y=\"-69.8\" font-family=\"Times,serif\" font-size=\"14.00\">grad 1.0000</text>\n",
       "</g>\n",
       "<!-- 129176393751824* -->\n",
       "<g id=\"node21\" class=\"node\">\n",
       "<title>129176393751824*</title>\n",
       "<ellipse fill=\"none\" stroke=\"black\" cx=\"312\" cy=\"-73.5\" rx=\"27\" ry=\"18\"/>\n",
       "<text text-anchor=\"middle\" x=\"312\" y=\"-69.8\" font-family=\"Times,serif\" font-size=\"14.00\">*</text>\n",
       "</g>\n",
       "<!-- 129176393748048&#45;&gt;129176393751824* -->\n",
       "<g id=\"edge27\" class=\"edge\">\n",
       "<title>129176393748048&#45;&gt;129176393751824*</title>\n",
       "<path fill=\"none\" stroke=\"black\" d=\"M249.23,-73.5C258.37,-73.5 267.05,-73.5 274.87,-73.5\"/>\n",
       "<polygon fill=\"black\" stroke=\"black\" points=\"274.95,-77 284.95,-73.5 274.95,-70 274.95,-77\"/>\n",
       "</g>\n",
       "<!-- 129176393744976 -->\n",
       "<g id=\"node6\" class=\"node\">\n",
       "<title>129176393744976</title>\n",
       "<polygon fill=\"none\" stroke=\"black\" points=\"2.5,-165.5 2.5,-201.5 246.5,-201.5 246.5,-165.5 2.5,-165.5\"/>\n",
       "<text text-anchor=\"middle\" x=\"21.5\" y=\"-179.8\" font-family=\"Times,serif\" font-size=\"14.00\">w2</text>\n",
       "<polyline fill=\"none\" stroke=\"black\" points=\"40.5,-165.5 40.5,-201.5 \"/>\n",
       "<text text-anchor=\"middle\" x=\"91.5\" y=\"-179.8\" font-family=\"Times,serif\" font-size=\"14.00\">data 1.0000</text>\n",
       "<polyline fill=\"none\" stroke=\"black\" points=\"142.5,-165.5 142.5,-201.5 \"/>\n",
       "<text text-anchor=\"middle\" x=\"194.5\" y=\"-179.8\" font-family=\"Times,serif\" font-size=\"14.00\">grad 0.0000</text>\n",
       "</g>\n",
       "<!-- 129176393753808* -->\n",
       "<g id=\"node17\" class=\"node\">\n",
       "<title>129176393753808*</title>\n",
       "<ellipse fill=\"none\" stroke=\"black\" cx=\"312\" cy=\"-128.5\" rx=\"27\" ry=\"18\"/>\n",
       "<text text-anchor=\"middle\" x=\"312\" y=\"-124.8\" font-family=\"Times,serif\" font-size=\"14.00\">*</text>\n",
       "</g>\n",
       "<!-- 129176393744976&#45;&gt;129176393753808* -->\n",
       "<g id=\"edge19\" class=\"edge\">\n",
       "<title>129176393744976&#45;&gt;129176393753808*</title>\n",
       "<path fill=\"none\" stroke=\"black\" d=\"M218.13,-165.46C228.63,-162.77 239.1,-159.78 249,-156.5 259.71,-152.96 271.05,-148.16 281.07,-143.54\"/>\n",
       "<polygon fill=\"black\" stroke=\"black\" points=\"282.67,-146.66 290.2,-139.21 279.67,-140.33 282.67,-146.66\"/>\n",
       "</g>\n",
       "<!-- 129176395319376 -->\n",
       "<g id=\"node7\" class=\"node\">\n",
       "<title>129176395319376</title>\n",
       "<polygon fill=\"none\" stroke=\"black\" points=\"2554.6,-53.5 2554.6,-89.5 2781.6,-89.5 2781.6,-53.5 2554.6,-53.5\"/>\n",
       "<text text-anchor=\"middle\" x=\"2565.1\" y=\"-67.8\" font-family=\"Times,serif\" font-size=\"14.00\"> </text>\n",
       "<polyline fill=\"none\" stroke=\"black\" points=\"2575.6,-53.5 2575.6,-89.5 \"/>\n",
       "<text text-anchor=\"middle\" x=\"2626.6\" y=\"-67.8\" font-family=\"Times,serif\" font-size=\"14.00\">data 4.8284</text>\n",
       "<polyline fill=\"none\" stroke=\"black\" points=\"2677.6,-53.5 2677.6,-89.5 \"/>\n",
       "<text text-anchor=\"middle\" x=\"2729.6\" y=\"-67.8\" font-family=\"Times,serif\" font-size=\"14.00\">grad 0.1464</text>\n",
       "</g>\n",
       "<!-- 129176389596816* -->\n",
       "<g id=\"node10\" class=\"node\">\n",
       "<title>129176389596816*</title>\n",
       "<ellipse fill=\"none\" stroke=\"black\" cx=\"3107.6\" cy=\"-98.5\" rx=\"27\" ry=\"18\"/>\n",
       "<text text-anchor=\"middle\" x=\"3107.6\" y=\"-94.8\" font-family=\"Times,serif\" font-size=\"14.00\">*</text>\n",
       "</g>\n",
       "<!-- 129176395319376&#45;&gt;129176389596816* -->\n",
       "<g id=\"edge26\" class=\"edge\">\n",
       "<title>129176395319376&#45;&gt;129176389596816*</title>\n",
       "<path fill=\"none\" stroke=\"black\" d=\"M2781.76,-78.45C2877.02,-84.33 3007.68,-92.4 3070.28,-96.26\"/>\n",
       "<polygon fill=\"black\" stroke=\"black\" points=\"3070.24,-99.76 3080.44,-96.89 3070.68,-92.78 3070.24,-99.76\"/>\n",
       "</g>\n",
       "<!-- 129176395319376+ -->\n",
       "<g id=\"node8\" class=\"node\">\n",
       "<title>129176395319376+</title>\n",
       "<ellipse fill=\"none\" stroke=\"black\" cx=\"2224.6\" cy=\"-71.5\" rx=\"27\" ry=\"18\"/>\n",
       "<text text-anchor=\"middle\" x=\"2224.6\" y=\"-67.8\" font-family=\"Times,serif\" font-size=\"14.00\">+</text>\n",
       "</g>\n",
       "<!-- 129176395319376+&#45;&gt;129176395319376 -->\n",
       "<g id=\"edge3\" class=\"edge\">\n",
       "<title>129176395319376+&#45;&gt;129176395319376</title>\n",
       "<path fill=\"none\" stroke=\"black\" d=\"M2251.89,-71.5C2308.16,-71.5 2443.31,-71.5 2544.23,-71.5\"/>\n",
       "<polygon fill=\"black\" stroke=\"black\" points=\"2544.5,-75 2554.5,-71.5 2544.5,-68 2544.5,-75\"/>\n",
       "</g>\n",
       "<!-- 129176389596816 -->\n",
       "<g id=\"node9\" class=\"node\">\n",
       "<title>129176389596816</title>\n",
       "<polygon fill=\"none\" stroke=\"black\" points=\"3170.6,-80.5 3170.6,-116.5 3401.6,-116.5 3401.6,-80.5 3170.6,-80.5\"/>\n",
       "<text text-anchor=\"middle\" x=\"3183.1\" y=\"-94.8\" font-family=\"Times,serif\" font-size=\"14.00\">o</text>\n",
       "<polyline fill=\"none\" stroke=\"black\" points=\"3195.6,-80.5 3195.6,-116.5 \"/>\n",
       "<text text-anchor=\"middle\" x=\"3246.6\" y=\"-94.8\" font-family=\"Times,serif\" font-size=\"14.00\">data 0.7071</text>\n",
       "<polyline fill=\"none\" stroke=\"black\" points=\"3297.6,-80.5 3297.6,-116.5 \"/>\n",
       "<text text-anchor=\"middle\" x=\"3349.6\" y=\"-94.8\" font-family=\"Times,serif\" font-size=\"14.00\">grad 1.0000</text>\n",
       "</g>\n",
       "<!-- 129176389596816*&#45;&gt;129176389596816 -->\n",
       "<g id=\"edge4\" class=\"edge\">\n",
       "<title>129176389596816*&#45;&gt;129176389596816</title>\n",
       "<path fill=\"none\" stroke=\"black\" d=\"M3134.64,-98.5C3142.18,-98.5 3150.96,-98.5 3160.41,-98.5\"/>\n",
       "<polygon fill=\"black\" stroke=\"black\" points=\"3160.49,-102 3170.49,-98.5 3160.49,-95 3160.49,-102\"/>\n",
       "</g>\n",
       "<!-- 129176395325584 -->\n",
       "<g id=\"node11\" class=\"node\">\n",
       "<title>129176395325584</title>\n",
       "<polygon fill=\"none\" stroke=\"black\" points=\"2287.6,-108.5 2287.6,-144.5 2518.6,-144.5 2518.6,-108.5 2287.6,-108.5\"/>\n",
       "<text text-anchor=\"middle\" x=\"2298.1\" y=\"-122.8\" font-family=\"Times,serif\" font-size=\"14.00\"> </text>\n",
       "<polyline fill=\"none\" stroke=\"black\" points=\"2308.6,-108.5 2308.6,-144.5 \"/>\n",
       "<text text-anchor=\"middle\" x=\"2359.6\" y=\"-122.8\" font-family=\"Times,serif\" font-size=\"14.00\">data 6.8284</text>\n",
       "<polyline fill=\"none\" stroke=\"black\" points=\"2410.6,-108.5 2410.6,-144.5 \"/>\n",
       "<text text-anchor=\"middle\" x=\"2464.6\" y=\"-122.8\" font-family=\"Times,serif\" font-size=\"14.00\">grad &#45;0.1036</text>\n",
       "</g>\n",
       "<!-- 129176395320656**&#45;1 -->\n",
       "<g id=\"node23\" class=\"node\">\n",
       "<title>129176395320656**&#45;1</title>\n",
       "<ellipse fill=\"none\" stroke=\"black\" cx=\"2668.1\" cy=\"-126.5\" rx=\"28.7\" ry=\"18\"/>\n",
       "<text text-anchor=\"middle\" x=\"2668.1\" y=\"-122.8\" font-family=\"Times,serif\" font-size=\"14.00\">**&#45;1</text>\n",
       "</g>\n",
       "<!-- 129176395325584&#45;&gt;129176395320656**&#45;1 -->\n",
       "<g id=\"edge28\" class=\"edge\">\n",
       "<title>129176395325584&#45;&gt;129176395320656**&#45;1</title>\n",
       "<path fill=\"none\" stroke=\"black\" d=\"M2518.69,-126.5C2558.38,-126.5 2600.17,-126.5 2629.25,-126.5\"/>\n",
       "<polygon fill=\"black\" stroke=\"black\" points=\"2629.37,-130 2639.37,-126.5 2629.37,-123 2629.37,-130\"/>\n",
       "</g>\n",
       "<!-- 129176395325584+ -->\n",
       "<g id=\"node12\" class=\"node\">\n",
       "<title>129176395325584+</title>\n",
       "<ellipse fill=\"none\" stroke=\"black\" cx=\"2224.6\" cy=\"-126.5\" rx=\"27\" ry=\"18\"/>\n",
       "<text text-anchor=\"middle\" x=\"2224.6\" y=\"-122.8\" font-family=\"Times,serif\" font-size=\"14.00\">+</text>\n",
       "</g>\n",
       "<!-- 129176395325584+&#45;&gt;129176395325584 -->\n",
       "<g id=\"edge5\" class=\"edge\">\n",
       "<title>129176395325584+&#45;&gt;129176395325584</title>\n",
       "<path fill=\"none\" stroke=\"black\" d=\"M2251.64,-126.5C2259.18,-126.5 2267.96,-126.5 2277.41,-126.5\"/>\n",
       "<polygon fill=\"black\" stroke=\"black\" points=\"2277.49,-130 2287.49,-126.5 2277.49,-123 2277.49,-130\"/>\n",
       "</g>\n",
       "<!-- 129176390890128 -->\n",
       "<g id=\"node13\" class=\"node\">\n",
       "<title>129176390890128</title>\n",
       "<polygon fill=\"none\" stroke=\"black\" points=\"1932.1,-81.5 1932.1,-117.5 2159.1,-117.5 2159.1,-81.5 1932.1,-81.5\"/>\n",
       "<text text-anchor=\"middle\" x=\"1942.6\" y=\"-95.8\" font-family=\"Times,serif\" font-size=\"14.00\"> </text>\n",
       "<polyline fill=\"none\" stroke=\"black\" points=\"1953.1,-81.5 1953.1,-117.5 \"/>\n",
       "<text text-anchor=\"middle\" x=\"2004.1\" y=\"-95.8\" font-family=\"Times,serif\" font-size=\"14.00\">data 5.8284</text>\n",
       "<polyline fill=\"none\" stroke=\"black\" points=\"2055.1,-81.5 2055.1,-117.5 \"/>\n",
       "<text text-anchor=\"middle\" x=\"2107.1\" y=\"-95.8\" font-family=\"Times,serif\" font-size=\"14.00\">grad 0.0429</text>\n",
       "</g>\n",
       "<!-- 129176390890128&#45;&gt;129176395319376+ -->\n",
       "<g id=\"edge25\" class=\"edge\">\n",
       "<title>129176390890128&#45;&gt;129176395319376+</title>\n",
       "<path fill=\"none\" stroke=\"black\" d=\"M2159.19,-81.69C2169.47,-80.06 2179.28,-78.51 2188,-77.13\"/>\n",
       "<polygon fill=\"black\" stroke=\"black\" points=\"2188.73,-80.56 2198.06,-75.54 2187.64,-73.64 2188.73,-80.56\"/>\n",
       "</g>\n",
       "<!-- 129176390890128&#45;&gt;129176395325584+ -->\n",
       "<g id=\"edge13\" class=\"edge\">\n",
       "<title>129176390890128&#45;&gt;129176395325584+</title>\n",
       "<path fill=\"none\" stroke=\"black\" d=\"M2159.19,-116.68C2169.47,-118.24 2179.28,-119.74 2188,-121.07\"/>\n",
       "<polygon fill=\"black\" stroke=\"black\" points=\"2187.65,-124.56 2198.06,-122.61 2188.7,-117.64 2187.65,-124.56\"/>\n",
       "</g>\n",
       "<!-- 129176390890128exp -->\n",
       "<g id=\"node14\" class=\"node\">\n",
       "<title>129176390890128exp</title>\n",
       "<ellipse fill=\"none\" stroke=\"black\" cx=\"1866.3\" cy=\"-99.5\" rx=\"27.1\" ry=\"18\"/>\n",
       "<text text-anchor=\"middle\" x=\"1866.3\" y=\"-95.8\" font-family=\"Times,serif\" font-size=\"14.00\">exp</text>\n",
       "</g>\n",
       "<!-- 129176390890128exp&#45;&gt;129176390890128 -->\n",
       "<g id=\"edge6\" class=\"edge\">\n",
       "<title>129176390890128exp&#45;&gt;129176390890128</title>\n",
       "<path fill=\"none\" stroke=\"black\" d=\"M1893.84,-99.5C1901.97,-99.5 1911.49,-99.5 1921.74,-99.5\"/>\n",
       "<polygon fill=\"black\" stroke=\"black\" points=\"1921.76,-103 1931.76,-99.5 1921.76,-96 1921.76,-103\"/>\n",
       "</g>\n",
       "<!-- 129176393752720 -->\n",
       "<g id=\"node15\" class=\"node\">\n",
       "<title>129176393752720</title>\n",
       "<polygon fill=\"none\" stroke=\"black\" points=\"2.5,-0.5 2.5,-36.5 246.5,-36.5 246.5,-0.5 2.5,-0.5\"/>\n",
       "<text text-anchor=\"middle\" x=\"19.5\" y=\"-14.8\" font-family=\"Times,serif\" font-size=\"14.00\">x1</text>\n",
       "<polyline fill=\"none\" stroke=\"black\" points=\"36.5,-0.5 36.5,-36.5 \"/>\n",
       "<text text-anchor=\"middle\" x=\"87.5\" y=\"-14.8\" font-family=\"Times,serif\" font-size=\"14.00\">data 2.0000</text>\n",
       "<polyline fill=\"none\" stroke=\"black\" points=\"138.5,-0.5 138.5,-36.5 \"/>\n",
       "<text text-anchor=\"middle\" x=\"192.5\" y=\"-14.8\" font-family=\"Times,serif\" font-size=\"14.00\">grad &#45;1.5000</text>\n",
       "</g>\n",
       "<!-- 129176393752720&#45;&gt;129176393751824* -->\n",
       "<g id=\"edge24\" class=\"edge\">\n",
       "<title>129176393752720&#45;&gt;129176393751824*</title>\n",
       "<path fill=\"none\" stroke=\"black\" d=\"M218.13,-36.54C228.63,-39.23 239.1,-42.22 249,-45.5 259.71,-49.04 271.05,-53.84 281.07,-58.46\"/>\n",
       "<polygon fill=\"black\" stroke=\"black\" points=\"279.67,-61.67 290.2,-62.79 282.67,-55.34 279.67,-61.67\"/>\n",
       "</g>\n",
       "<!-- 129176393753808 -->\n",
       "<g id=\"node16\" class=\"node\">\n",
       "<title>129176393753808</title>\n",
       "<polygon fill=\"none\" stroke=\"black\" points=\"377.5,-110.5 377.5,-146.5 638.5,-146.5 638.5,-110.5 377.5,-110.5\"/>\n",
       "<text text-anchor=\"middle\" x=\"405\" y=\"-124.8\" font-family=\"Times,serif\" font-size=\"14.00\">x2w2</text>\n",
       "<polyline fill=\"none\" stroke=\"black\" points=\"432.5,-110.5 432.5,-146.5 \"/>\n",
       "<text text-anchor=\"middle\" x=\"483.5\" y=\"-124.8\" font-family=\"Times,serif\" font-size=\"14.00\">data 0.0000</text>\n",
       "<polyline fill=\"none\" stroke=\"black\" points=\"534.5,-110.5 534.5,-146.5 \"/>\n",
       "<text text-anchor=\"middle\" x=\"586.5\" y=\"-124.8\" font-family=\"Times,serif\" font-size=\"14.00\">grad 0.5000</text>\n",
       "</g>\n",
       "<!-- 129176393753808&#45;&gt;129176390882896+ -->\n",
       "<g id=\"edge11\" class=\"edge\">\n",
       "<title>129176393753808&#45;&gt;129176390882896+</title>\n",
       "<path fill=\"none\" stroke=\"black\" d=\"M633.78,-110.49C645.77,-108.76 657.15,-107.12 667.08,-105.68\"/>\n",
       "<polygon fill=\"black\" stroke=\"black\" points=\"667.86,-109.11 677.25,-104.22 666.86,-102.18 667.86,-109.11\"/>\n",
       "</g>\n",
       "<!-- 129176393753808*&#45;&gt;129176393753808 -->\n",
       "<g id=\"edge7\" class=\"edge\">\n",
       "<title>129176393753808*&#45;&gt;129176393753808</title>\n",
       "<path fill=\"none\" stroke=\"black\" d=\"M339.16,-128.5C347.24,-128.5 356.75,-128.5 367.07,-128.5\"/>\n",
       "<polygon fill=\"black\" stroke=\"black\" points=\"367.2,-132 377.2,-128.5 367.2,-125 367.2,-132\"/>\n",
       "</g>\n",
       "<!-- 129176393751184 -->\n",
       "<g id=\"node18\" class=\"node\">\n",
       "<title>129176393751184</title>\n",
       "<polygon fill=\"none\" stroke=\"black\" points=\"4.5,-110.5 4.5,-146.5 244.5,-146.5 244.5,-110.5 4.5,-110.5\"/>\n",
       "<text text-anchor=\"middle\" x=\"21.5\" y=\"-124.8\" font-family=\"Times,serif\" font-size=\"14.00\">x2</text>\n",
       "<polyline fill=\"none\" stroke=\"black\" points=\"38.5,-110.5 38.5,-146.5 \"/>\n",
       "<text text-anchor=\"middle\" x=\"89.5\" y=\"-124.8\" font-family=\"Times,serif\" font-size=\"14.00\">data 0.0000</text>\n",
       "<polyline fill=\"none\" stroke=\"black\" points=\"140.5,-110.5 140.5,-146.5 \"/>\n",
       "<text text-anchor=\"middle\" x=\"192.5\" y=\"-124.8\" font-family=\"Times,serif\" font-size=\"14.00\">grad 0.5000</text>\n",
       "</g>\n",
       "<!-- 129176393751184&#45;&gt;129176393753808* -->\n",
       "<g id=\"edge12\" class=\"edge\">\n",
       "<title>129176393751184&#45;&gt;129176393753808*</title>\n",
       "<path fill=\"none\" stroke=\"black\" d=\"M244.55,-128.5C255.31,-128.5 265.54,-128.5 274.62,-128.5\"/>\n",
       "<polygon fill=\"black\" stroke=\"black\" points=\"274.7,-132 284.7,-128.5 274.7,-125 274.7,-132\"/>\n",
       "</g>\n",
       "<!-- 129172177222352 -->\n",
       "<g id=\"node19\" class=\"node\">\n",
       "<title>129172177222352</title>\n",
       "<polygon fill=\"none\" stroke=\"black\" points=\"1929.6,-26.5 1929.6,-62.5 2161.6,-62.5 2161.6,-26.5 1929.6,-26.5\"/>\n",
       "<text text-anchor=\"middle\" x=\"1940.1\" y=\"-40.8\" font-family=\"Times,serif\" font-size=\"14.00\"> </text>\n",
       "<polyline fill=\"none\" stroke=\"black\" points=\"1950.6,-26.5 1950.6,-62.5 \"/>\n",
       "<text text-anchor=\"middle\" x=\"2004.1\" y=\"-40.8\" font-family=\"Times,serif\" font-size=\"14.00\">data &#45;1.0000</text>\n",
       "<polyline fill=\"none\" stroke=\"black\" points=\"2057.6,-26.5 2057.6,-62.5 \"/>\n",
       "<text text-anchor=\"middle\" x=\"2109.6\" y=\"-40.8\" font-family=\"Times,serif\" font-size=\"14.00\">grad 0.1464</text>\n",
       "</g>\n",
       "<!-- 129172177222352&#45;&gt;129176395319376+ -->\n",
       "<g id=\"edge21\" class=\"edge\">\n",
       "<title>129172177222352&#45;&gt;129176395319376+</title>\n",
       "<path fill=\"none\" stroke=\"black\" d=\"M2161.69,-62.06C2171.05,-63.49 2179.98,-64.85 2188,-66.07\"/>\n",
       "<polygon fill=\"black\" stroke=\"black\" points=\"2187.55,-69.54 2197.96,-67.59 2188.61,-62.62 2187.55,-69.54\"/>\n",
       "</g>\n",
       "<!-- 129176393751824 -->\n",
       "<g id=\"node20\" class=\"node\">\n",
       "<title>129176393751824</title>\n",
       "<polygon fill=\"none\" stroke=\"black\" points=\"375,-55.5 375,-91.5 641,-91.5 641,-55.5 375,-55.5\"/>\n",
       "<text text-anchor=\"middle\" x=\"402.5\" y=\"-69.8\" font-family=\"Times,serif\" font-size=\"14.00\">x1w1</text>\n",
       "<polyline fill=\"none\" stroke=\"black\" points=\"430,-55.5 430,-91.5 \"/>\n",
       "<text text-anchor=\"middle\" x=\"483.5\" y=\"-69.8\" font-family=\"Times,serif\" font-size=\"14.00\">data &#45;6.0000</text>\n",
       "<polyline fill=\"none\" stroke=\"black\" points=\"537,-55.5 537,-91.5 \"/>\n",
       "<text text-anchor=\"middle\" x=\"589\" y=\"-69.8\" font-family=\"Times,serif\" font-size=\"14.00\">grad 0.5000</text>\n",
       "</g>\n",
       "<!-- 129176393751824&#45;&gt;129176390882896+ -->\n",
       "<g id=\"edge20\" class=\"edge\">\n",
       "<title>129176393751824&#45;&gt;129176390882896+</title>\n",
       "<path fill=\"none\" stroke=\"black\" d=\"M638.4,-91.51C648.78,-92.95 658.6,-94.32 667.3,-95.53\"/>\n",
       "<polygon fill=\"black\" stroke=\"black\" points=\"666.94,-99.01 677.32,-96.93 667.9,-92.08 666.94,-99.01\"/>\n",
       "</g>\n",
       "<!-- 129176393751824*&#45;&gt;129176393751824 -->\n",
       "<g id=\"edge8\" class=\"edge\">\n",
       "<title>129176393751824*&#45;&gt;129176393751824</title>\n",
       "<path fill=\"none\" stroke=\"black\" d=\"M339.16,-73.5C346.61,-73.5 355.28,-73.5 364.68,-73.5\"/>\n",
       "<polygon fill=\"black\" stroke=\"black\" points=\"364.73,-77 374.73,-73.5 364.73,-70 364.73,-77\"/>\n",
       "</g>\n",
       "<!-- 129176395320656 -->\n",
       "<g id=\"node22\" class=\"node\">\n",
       "<title>129176395320656</title>\n",
       "<polygon fill=\"none\" stroke=\"black\" points=\"2817.6,-106.5 2817.6,-142.5 3044.6,-142.5 3044.6,-106.5 2817.6,-106.5\"/>\n",
       "<text text-anchor=\"middle\" x=\"2828.1\" y=\"-120.8\" font-family=\"Times,serif\" font-size=\"14.00\"> </text>\n",
       "<polyline fill=\"none\" stroke=\"black\" points=\"2838.6,-106.5 2838.6,-142.5 \"/>\n",
       "<text text-anchor=\"middle\" x=\"2889.6\" y=\"-120.8\" font-family=\"Times,serif\" font-size=\"14.00\">data 0.1464</text>\n",
       "<polyline fill=\"none\" stroke=\"black\" points=\"2940.6,-106.5 2940.6,-142.5 \"/>\n",
       "<text text-anchor=\"middle\" x=\"2992.6\" y=\"-120.8\" font-family=\"Times,serif\" font-size=\"14.00\">grad 4.8284</text>\n",
       "</g>\n",
       "<!-- 129176395320656&#45;&gt;129176389596816* -->\n",
       "<g id=\"edge15\" class=\"edge\">\n",
       "<title>129176395320656&#45;&gt;129176389596816*</title>\n",
       "<path fill=\"none\" stroke=\"black\" d=\"M3045.07,-107.67C3054.37,-106.28 3063.23,-104.96 3071.2,-103.77\"/>\n",
       "<polygon fill=\"black\" stroke=\"black\" points=\"3071.73,-107.23 3081.1,-102.3 3070.7,-100.31 3071.73,-107.23\"/>\n",
       "</g>\n",
       "<!-- 129176395320656**&#45;1&#45;&gt;129176395320656 -->\n",
       "<g id=\"edge9\" class=\"edge\">\n",
       "<title>129176395320656**&#45;1&#45;&gt;129176395320656</title>\n",
       "<path fill=\"none\" stroke=\"black\" d=\"M2697.03,-126.29C2723.75,-126.08 2765.99,-125.76 2807.21,-125.44\"/>\n",
       "<polygon fill=\"black\" stroke=\"black\" points=\"2807.4,-128.94 2817.37,-125.36 2807.35,-121.94 2807.4,-128.94\"/>\n",
       "</g>\n",
       "<!-- 129176393747408 -->\n",
       "<g id=\"node24\" class=\"node\">\n",
       "<title>129176393747408</title>\n",
       "<polygon fill=\"none\" stroke=\"black\" points=\"813.5,-27.5 813.5,-63.5 1045.5,-63.5 1045.5,-27.5 813.5,-27.5\"/>\n",
       "<text text-anchor=\"middle\" x=\"826.5\" y=\"-41.8\" font-family=\"Times,serif\" font-size=\"14.00\">b</text>\n",
       "<polyline fill=\"none\" stroke=\"black\" points=\"839.5,-27.5 839.5,-63.5 \"/>\n",
       "<text text-anchor=\"middle\" x=\"890.5\" y=\"-41.8\" font-family=\"Times,serif\" font-size=\"14.00\">data 6.8814</text>\n",
       "<polyline fill=\"none\" stroke=\"black\" points=\"941.5,-27.5 941.5,-63.5 \"/>\n",
       "<text text-anchor=\"middle\" x=\"993.5\" y=\"-41.8\" font-family=\"Times,serif\" font-size=\"14.00\">grad 0.5000</text>\n",
       "</g>\n",
       "<!-- 129176393747408&#45;&gt;129176390886352+ -->\n",
       "<g id=\"edge22\" class=\"edge\">\n",
       "<title>129176393747408&#45;&gt;129176390886352+</title>\n",
       "<path fill=\"none\" stroke=\"black\" d=\"M1045.52,-59.4C1071.82,-62.57 1097.87,-65.72 1117.85,-68.13\"/>\n",
       "<polygon fill=\"black\" stroke=\"black\" points=\"1117.65,-71.63 1128,-69.36 1118.49,-64.68 1117.65,-71.63\"/>\n",
       "</g>\n",
       "<!-- 129176395321744 -->\n",
       "<g id=\"node25\" class=\"node\">\n",
       "<title>129176395321744</title>\n",
       "<polygon fill=\"none\" stroke=\"black\" points=\"1930.1,-136.5 1930.1,-172.5 2161.1,-172.5 2161.1,-136.5 1930.1,-136.5\"/>\n",
       "<text text-anchor=\"middle\" x=\"1940.6\" y=\"-150.8\" font-family=\"Times,serif\" font-size=\"14.00\"> </text>\n",
       "<polyline fill=\"none\" stroke=\"black\" points=\"1951.1,-136.5 1951.1,-172.5 \"/>\n",
       "<text text-anchor=\"middle\" x=\"2002.1\" y=\"-150.8\" font-family=\"Times,serif\" font-size=\"14.00\">data 1.0000</text>\n",
       "<polyline fill=\"none\" stroke=\"black\" points=\"2053.1,-136.5 2053.1,-172.5 \"/>\n",
       "<text text-anchor=\"middle\" x=\"2107.1\" y=\"-150.8\" font-family=\"Times,serif\" font-size=\"14.00\">grad &#45;0.1036</text>\n",
       "</g>\n",
       "<!-- 129176395321744&#45;&gt;129176395325584+ -->\n",
       "<g id=\"edge23\" class=\"edge\">\n",
       "<title>129176395321744&#45;&gt;129176395325584+</title>\n",
       "<path fill=\"none\" stroke=\"black\" d=\"M2160.69,-136.45C2170.48,-134.9 2179.8,-133.43 2188.14,-132.11\"/>\n",
       "<polygon fill=\"black\" stroke=\"black\" points=\"2188.79,-135.55 2198.12,-130.53 2187.69,-128.64 2188.79,-135.55\"/>\n",
       "</g>\n",
       "<!-- 129176390882768 -->\n",
       "<g id=\"node26\" class=\"node\">\n",
       "<title>129176390882768</title>\n",
       "<polygon fill=\"none\" stroke=\"black\" points=\"1220.5,-109.5 1220.5,-145.5 1447.5,-145.5 1447.5,-109.5 1220.5,-109.5\"/>\n",
       "<text text-anchor=\"middle\" x=\"1231\" y=\"-123.8\" font-family=\"Times,serif\" font-size=\"14.00\"> </text>\n",
       "<polyline fill=\"none\" stroke=\"black\" points=\"1241.5,-109.5 1241.5,-145.5 \"/>\n",
       "<text text-anchor=\"middle\" x=\"1292.5\" y=\"-123.8\" font-family=\"Times,serif\" font-size=\"14.00\">data 2.0000</text>\n",
       "<polyline fill=\"none\" stroke=\"black\" points=\"1343.5,-109.5 1343.5,-145.5 \"/>\n",
       "<text text-anchor=\"middle\" x=\"1395.5\" y=\"-123.8\" font-family=\"Times,serif\" font-size=\"14.00\">grad 0.2203</text>\n",
       "</g>\n",
       "<!-- 129176390882768&#45;&gt;129176390883280* -->\n",
       "<g id=\"edge14\" class=\"edge\">\n",
       "<title>129176390882768&#45;&gt;129176390883280*</title>\n",
       "<path fill=\"none\" stroke=\"black\" d=\"M1447.6,-109.69C1457.87,-108.06 1467.68,-106.51 1476.4,-105.13\"/>\n",
       "<polygon fill=\"black\" stroke=\"black\" points=\"1477.14,-108.56 1486.47,-103.54 1476.04,-101.64 1477.14,-108.56\"/>\n",
       "</g>\n",
       "<!-- 129176390883280 -->\n",
       "<g id=\"node27\" class=\"node\">\n",
       "<title>129176390883280</title>\n",
       "<polygon fill=\"none\" stroke=\"black\" points=\"1576,-81.5 1576,-117.5 1803,-117.5 1803,-81.5 1576,-81.5\"/>\n",
       "<text text-anchor=\"middle\" x=\"1586.5\" y=\"-95.8\" font-family=\"Times,serif\" font-size=\"14.00\"> </text>\n",
       "<polyline fill=\"none\" stroke=\"black\" points=\"1597,-81.5 1597,-117.5 \"/>\n",
       "<text text-anchor=\"middle\" x=\"1648\" y=\"-95.8\" font-family=\"Times,serif\" font-size=\"14.00\">data 1.7627</text>\n",
       "<polyline fill=\"none\" stroke=\"black\" points=\"1699,-81.5 1699,-117.5 \"/>\n",
       "<text text-anchor=\"middle\" x=\"1751\" y=\"-95.8\" font-family=\"Times,serif\" font-size=\"14.00\">grad 0.2500</text>\n",
       "</g>\n",
       "<!-- 129176390883280&#45;&gt;129176390890128exp -->\n",
       "<g id=\"edge16\" class=\"edge\">\n",
       "<title>129176390883280&#45;&gt;129176390890128exp</title>\n",
       "<path fill=\"none\" stroke=\"black\" d=\"M1803.18,-99.5C1812.26,-99.5 1820.95,-99.5 1828.79,-99.5\"/>\n",
       "<polygon fill=\"black\" stroke=\"black\" points=\"1828.93,-103 1838.93,-99.5 1828.93,-96 1828.93,-103\"/>\n",
       "</g>\n",
       "<!-- 129176390883280*&#45;&gt;129176390883280 -->\n",
       "<g id=\"edge10\" class=\"edge\">\n",
       "<title>129176390883280*&#45;&gt;129176390883280</title>\n",
       "<path fill=\"none\" stroke=\"black\" d=\"M1540.12,-99.5C1547.67,-99.5 1556.45,-99.5 1565.9,-99.5\"/>\n",
       "<polygon fill=\"black\" stroke=\"black\" points=\"1565.95,-103 1575.95,-99.5 1565.95,-96 1565.95,-103\"/>\n",
       "</g>\n",
       "</g>\n",
       "</svg>\n"
      ],
      "text/plain": [
       "<graphviz.graphs.Digraph at 0x757c39287590>"
      ]
     },
     "execution_count": 191,
     "metadata": {},
     "output_type": "execute_result"
    }
   ],
   "source": [
    "#INPUTS\n",
    "x1 = Value(2.0, label='x1')\n",
    "x2 = Value(0.0, label='x2')\n",
    "#WEIGHTS\n",
    "w1 = Value(-3.0, label='w1')\n",
    "w2 = Value(1.0, label='w2')\n",
    "#BIAS\n",
    "b = Value(6.8813735870195432, label='b')\n",
    "x1w1 = x1*w1; x1w1.label = 'x1w1'\n",
    "x2w2 = x2*w2; x2w2.label = 'x2w2'\n",
    "x1w1x2w2 = x1w1 + x2w2; x1w1x2w2.label = 'x1w1 + x2w2'\n",
    "n = x1w1x2w2 + b; n.label = 'n'\n",
    "e = (2*n).exp()\n",
    "o = (e - 1)/ (e + 1)\n",
    "o.label = 'o'\n",
    "o.backward()\n",
    "draw_dot(o)"
   ]
  },
  {
   "cell_type": "code",
   "execution_count": 192,
   "metadata": {},
   "outputs": [
    {
     "data": {
      "text/plain": [
       "'output_graph.png'"
      ]
     },
     "execution_count": 192,
     "metadata": {},
     "output_type": "execute_result"
    }
   ],
   "source": [
    "dot = draw_dot(o)\n",
    "dot.render(\"output_graph\", format=\"png\", cleanup=True)"
   ]
  },
  {
   "cell_type": "code",
   "execution_count": 193,
   "metadata": {},
   "outputs": [],
   "source": [
    "import torch"
   ]
  },
  {
   "cell_type": "code",
   "execution_count": 194,
   "metadata": {},
   "outputs": [
    {
     "name": "stdout",
     "output_type": "stream",
     "text": [
      "0.7071066904050358\n",
      "-----\n",
      "x2 0.5000001283844369\n",
      "w2 0.0\n",
      "x1 -1.5000003851533106\n",
      "w1 1.0000002567688737\n"
     ]
    }
   ],
   "source": [
    "x1 = torch.Tensor([2.0]).double()              ;         x1.requires_grad = True\n",
    "x2 = torch.Tensor([0.0]).double()              ;         x2.requires_grad = True\n",
    "w1 = torch.Tensor([-3.0]).double()             ;        w1.requires_grad = True\n",
    "w2 = torch.Tensor([1.0]).double()              ;         w2.requires_grad = True\n",
    "b = torch.Tensor([6.8813735870195432]).double(); b.requires_grad = True\n",
    "n = x1*w1 + x2*w2 + b\n",
    "o = torch.tanh(n)\n",
    "\n",
    "print(o.item())\n",
    "o.backward()\n",
    "\n",
    "print('-----')\n",
    "print('x2', x2.grad.item())\n",
    "print('w2', w2.grad.item())\n",
    "print('x1', x1.grad.item())\n",
    "print('w1', w1.grad.item())"
   ]
  },
  {
   "cell_type": "code",
   "execution_count": 276,
   "metadata": {},
   "outputs": [],
   "source": [
    "import random\n",
    "import math"
   ]
  },
  {
   "cell_type": "code",
   "execution_count": 287,
   "metadata": {},
   "outputs": [],
   "source": [
    "class Neuron:\n",
    "\n",
    "    def __init__(self,nin):\n",
    "        self.w  =[Value(random.uniform(-1,1)) for _ in range(nin)]\n",
    "        self.b = Value(random.uniform(-1,1))\n",
    "\n",
    "    def __call__(self,x):\n",
    "        # w *x+b\n",
    "        act = sum((w1 * x1 for w1, x1 in zip(self.w, x)), Value(0.0)) + self.b\n",
    "        out = act.tanh()\n",
    "        return out\n",
    "    def parameters(self):\n",
    "        return self.w + [self.b]\n",
    "\n",
    "class Layer:\n",
    "\n",
    "    def __init__(self,nin, nout):\n",
    "        self.neurons = [Neuron(nin) for _ in range(nout)]\n",
    "\n",
    "    def __call__(self,x):\n",
    "        # w *x+b\n",
    "        outs = [n(x) for n in self.neurons]\n",
    "        return outs[0] if len(outs) == 1 else outs\n",
    "    def parameters(self):\n",
    "        return [p for neuron in self.neurons for p in neuron.parameters()]            \n",
    "\n",
    "class MLP:\n",
    "\n",
    "    def __init__(self, nin, nouts):\n",
    "        sz = [nin] + nouts\n",
    "        self.layers = [Layer(sz[i], sz[i+1]) for i in range(len(nouts))]\n",
    "\n",
    "    def __call__(self, x):\n",
    "        for layer in self.layers:\n",
    "            x = layer(x)\n",
    "        return x\n",
    "\n",
    "    def parameters(self):\n",
    "        return [p for layer in self.layers for p in layer.parameters()] \n"
   ]
  },
  {
   "cell_type": "code",
   "execution_count": 288,
   "metadata": {},
   "outputs": [
    {
     "data": {
      "text/plain": [
       "Value(data=0.1915728697712548)"
      ]
     },
     "execution_count": 288,
     "metadata": {},
     "output_type": "execute_result"
    }
   ],
   "source": [
    "x = [2.0, 3.0, -1.0]\n",
    "n = MLP(3, [4 ,4 ,1])\n",
    "n(x)"
   ]
  },
  {
   "cell_type": "code",
   "execution_count": 279,
   "metadata": {},
   "outputs": [
    {
     "data": {
      "text/plain": [
       "[Value(data=-0.811005684157833),\n",
       " Value(data=0.5758334048971792),\n",
       " Value(data=-0.3725045609520019),\n",
       " Value(data=0.12041798913544954),\n",
       " Value(data=0.7704751773572414),\n",
       " Value(data=0.0058276307526377025),\n",
       " Value(data=-0.37162931258090093),\n",
       " Value(data=-0.12299700655792445),\n",
       " Value(data=0.11621715882264394),\n",
       " Value(data=-0.5291230468780876),\n",
       " Value(data=-0.5524126350829479),\n",
       " Value(data=-0.3318278955732914),\n",
       " Value(data=-0.996505961828106),\n",
       " Value(data=-0.6299442050032242),\n",
       " Value(data=0.49678353571637013),\n",
       " Value(data=-0.533764222616163),\n",
       " Value(data=0.9429253759154439),\n",
       " Value(data=0.8002780990608682),\n",
       " Value(data=0.6066120142818103),\n",
       " Value(data=0.2589681702842044),\n",
       " Value(data=-0.6555328882982729),\n",
       " Value(data=0.6657935643159592),\n",
       " Value(data=-0.14514151457782765),\n",
       " Value(data=0.9656535539139255),\n",
       " Value(data=-0.3499925796838428),\n",
       " Value(data=-0.530455290296183),\n",
       " Value(data=-0.9395667318953516),\n",
       " Value(data=0.9362253092027297),\n",
       " Value(data=-0.20617573459015515),\n",
       " Value(data=-0.07831162813990833),\n",
       " Value(data=-0.15060053232970816),\n",
       " Value(data=0.4655173075042951),\n",
       " Value(data=-0.7423556064328443),\n",
       " Value(data=-0.3830347164823815),\n",
       " Value(data=0.8009858932970744),\n",
       " Value(data=-0.9067918217356834),\n",
       " Value(data=-0.22794756461426458),\n",
       " Value(data=0.5521597447802447),\n",
       " Value(data=-0.5380541181596801),\n",
       " Value(data=0.22015008140312942),\n",
       " Value(data=-0.64087810295763)]"
      ]
     },
     "execution_count": 279,
     "metadata": {},
     "output_type": "execute_result"
    }
   ],
   "source": [
    "n.parameters() # All the weights and biases"
   ]
  },
  {
   "cell_type": "code",
   "execution_count": null,
   "metadata": {},
   "outputs": [],
   "source": [
    "dot = draw_dot(o)\n",
    "dot.render(\"output_graph\", format=\"png\", cleanup=True)"
   ]
  },
  {
   "cell_type": "code",
   "execution_count": 289,
   "metadata": {},
   "outputs": [
    {
     "data": {
      "text/plain": [
       "Value(data=2.115361800615416e-24)"
      ]
     },
     "execution_count": 289,
     "metadata": {},
     "output_type": "execute_result"
    }
   ],
   "source": [
    "loss = sum((yout - ygt)**2 for ygt, yout in zip(ys, ypred))\n",
    "loss"
   ]
  },
  {
   "cell_type": "code",
   "execution_count": 331,
   "metadata": {},
   "outputs": [],
   "source": [
    "xs = [\n",
    "    [2.0, 3.0, -1.0],\n",
    "    [3.0, -1.0, 0.5],\n",
    "    [0.5, 1.0, 1.0],\n",
    "    [1.0, 1.0, -1.0],\n",
    "]\n",
    "\n",
    "ys = [1.0, -1.0, -1.0, 1.0]"
   ]
  },
  {
   "cell_type": "markdown",
   "metadata": {},
   "source": [
    "## Gradient descent"
   ]
  },
  {
   "cell_type": "code",
   "execution_count": 332,
   "metadata": {},
   "outputs": [
    {
     "name": "stdout",
     "output_type": "stream",
     "text": [
      "0 0.002646203815280917\n",
      "1 0.002636105322515778\n",
      "2 0.0026260817369014736\n",
      "3 0.0026161322371420943\n",
      "4 0.002606256013827847\n",
      "5 0.0025964522692217837\n",
      "6 0.002586720217050896\n",
      "7 0.002577059082301911\n",
      "8 0.0025674681010212533\n",
      "9 0.0025579465201193735\n",
      "10 0.00254849359717903\n",
      "11 0.002539108600267775\n",
      "12 0.002529790807754244\n",
      "13 0.0025205395081284248\n",
      "14 0.0025113539998254833\n",
      "15 0.002502233591053377\n",
      "16 0.002493177599624038\n",
      "17 0.0024841853527878886\n",
      "18 0.0024752561870719247\n",
      "19 0.0024663894481210297\n"
     ]
    }
   ],
   "source": [
    "for k in range(20):\n",
    "    #forward pass\n",
    "    ypred = [n(x) for x in xs]\n",
    "    loss = sum((yout - ygt)**2 for ygt, yout in zip(ys, ypred))\n",
    "    \n",
    "    #backward pass\n",
    "    for p in n.parameters():\n",
    "        p.grad = 0.0\n",
    "    loss.backward()\n",
    "\n",
    "    #update\n",
    "    for p in n.parameters():\n",
    "        p.data += -0.05 * p.grad\n",
    "\n",
    "    print(k, loss.data)    "
   ]
  },
  {
   "cell_type": "code",
   "execution_count": 333,
   "metadata": {},
   "outputs": [
    {
     "data": {
      "text/plain": [
       "[Value(data=0.981554555931276),\n",
       " Value(data=-0.9786405026457327),\n",
       " Value(data=-0.9721966657220117),\n",
       " Value(data=0.9700516859067477)]"
      ]
     },
     "execution_count": 333,
     "metadata": {},
     "output_type": "execute_result"
    }
   ],
   "source": [
    "ypred"
   ]
  },
  {
   "cell_type": "code",
   "execution_count": null,
   "metadata": {},
   "outputs": [],
   "source": []
  },
  {
   "cell_type": "code",
   "execution_count": null,
   "metadata": {},
   "outputs": [],
   "source": []
  }
 ],
 "metadata": {
  "kernelspec": {
   "display_name": "Python 3 (ipykernel)",
   "language": "python",
   "name": "python3"
  },
  "language_info": {
   "codemirror_mode": {
    "name": "ipython",
    "version": 3
   },
   "file_extension": ".py",
   "mimetype": "text/x-python",
   "name": "python",
   "nbconvert_exporter": "python",
   "pygments_lexer": "ipython3",
   "version": "3.11.11"
  }
 },
 "nbformat": 4,
 "nbformat_minor": 4
}
